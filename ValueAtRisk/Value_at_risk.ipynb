{
 "cells": [
  {
   "cell_type": "markdown",
   "metadata": {},
   "source": [
    "# Value-at-Risk\n",
    "Value at Risk - VaR - is one of the most important metrics that is used to measures the risk associated with a financial position or a portfolio of financial instruments. VaR can be defined as the maximum loss with a confidence level over a predetermined period. Let's say that the **1-Day 95% VaR** of our portfolio is 100 dollars \n",
    " . This means that 95% of the time, it is expected that - under normal market conditions - we will not lose more than $100 by holding our portfolio over one day.\n",
    "\n",
    "Three approaches that are commonly used in the industry are:\n",
    "\n",
    "- Parametric\n",
    "- Historical Simulation\n",
    "- Monte Carlo Simulation"
   ]
  },
  {
   "cell_type": "markdown",
   "metadata": {},
   "source": [
    "### Import Libraries"
   ]
  },
  {
   "cell_type": "code",
   "execution_count": 151,
   "metadata": {},
   "outputs": [],
   "source": [
    "import pandas as pd\n",
    "import numpy as np\n",
    "from functools import reduce\n",
    "from numpy.linalg import multi_dot\n",
    "\n",
    "from scipy.stats import norm\n",
    "from tabulate import tabulate\n",
    "\n",
    "import matplotlib.pyplot as plt"
   ]
  },
  {
   "cell_type": "markdown",
   "metadata": {},
   "source": [
    "### Data Preprocessing"
   ]
  },
  {
   "cell_type": "code",
   "execution_count": 152,
   "metadata": {},
   "outputs": [
    {
     "data": {
      "text/html": [
       "<div>\n",
       "<style scoped>\n",
       "    .dataframe tbody tr th:only-of-type {\n",
       "        vertical-align: middle;\n",
       "    }\n",
       "\n",
       "    .dataframe tbody tr th {\n",
       "        vertical-align: top;\n",
       "    }\n",
       "\n",
       "    .dataframe thead th {\n",
       "        text-align: right;\n",
       "    }\n",
       "</style>\n",
       "<table border=\"1\" class=\"dataframe\">\n",
       "  <thead>\n",
       "    <tr style=\"text-align: right;\">\n",
       "      <th></th>\n",
       "      <th>AAPL</th>\n",
       "      <th>AMZN</th>\n",
       "      <th>META</th>\n",
       "      <th>NFLX</th>\n",
       "      <th>GOOG</th>\n",
       "    </tr>\n",
       "    <tr>\n",
       "      <th>Date</th>\n",
       "      <th></th>\n",
       "      <th></th>\n",
       "      <th></th>\n",
       "      <th></th>\n",
       "      <th></th>\n",
       "    </tr>\n",
       "  </thead>\n",
       "  <tbody>\n",
       "    <tr>\n",
       "      <th>2024-04-03</th>\n",
       "      <td>169.649994</td>\n",
       "      <td>182.410004</td>\n",
       "      <td>506.739990</td>\n",
       "      <td>630.080017</td>\n",
       "      <td>156.369995</td>\n",
       "    </tr>\n",
       "    <tr>\n",
       "      <th>2024-04-02</th>\n",
       "      <td>168.839996</td>\n",
       "      <td>180.690002</td>\n",
       "      <td>497.369995</td>\n",
       "      <td>614.210022</td>\n",
       "      <td>155.869995</td>\n",
       "    </tr>\n",
       "    <tr>\n",
       "      <th>2024-04-01</th>\n",
       "      <td>170.029999</td>\n",
       "      <td>180.970001</td>\n",
       "      <td>491.350006</td>\n",
       "      <td>614.309998</td>\n",
       "      <td>156.500000</td>\n",
       "    </tr>\n",
       "    <tr>\n",
       "      <th>2024-03-28</th>\n",
       "      <td>171.479996</td>\n",
       "      <td>180.380005</td>\n",
       "      <td>485.579987</td>\n",
       "      <td>607.330017</td>\n",
       "      <td>152.259995</td>\n",
       "    </tr>\n",
       "    <tr>\n",
       "      <th>2024-03-27</th>\n",
       "      <td>173.309998</td>\n",
       "      <td>179.830002</td>\n",
       "      <td>493.859985</td>\n",
       "      <td>613.530029</td>\n",
       "      <td>151.940002</td>\n",
       "    </tr>\n",
       "    <tr>\n",
       "      <th>2024-03-26</th>\n",
       "      <td>169.710007</td>\n",
       "      <td>178.300003</td>\n",
       "      <td>495.890015</td>\n",
       "      <td>629.239990</td>\n",
       "      <td>151.699997</td>\n",
       "    </tr>\n",
       "    <tr>\n",
       "      <th>2024-03-25</th>\n",
       "      <td>170.850006</td>\n",
       "      <td>179.710007</td>\n",
       "      <td>503.019989</td>\n",
       "      <td>627.460022</td>\n",
       "      <td>151.149994</td>\n",
       "    </tr>\n",
       "    <tr>\n",
       "      <th>2024-03-22</th>\n",
       "      <td>172.279999</td>\n",
       "      <td>178.869995</td>\n",
       "      <td>509.579987</td>\n",
       "      <td>628.010010</td>\n",
       "      <td>151.770004</td>\n",
       "    </tr>\n",
       "  </tbody>\n",
       "</table>\n",
       "</div>"
      ],
      "text/plain": [
       "                  AAPL        AMZN        META        NFLX        GOOG\n",
       "Date                                                                  \n",
       "2024-04-03  169.649994  182.410004  506.739990  630.080017  156.369995\n",
       "2024-04-02  168.839996  180.690002  497.369995  614.210022  155.869995\n",
       "2024-04-01  170.029999  180.970001  491.350006  614.309998  156.500000\n",
       "2024-03-28  171.479996  180.380005  485.579987  607.330017  152.259995\n",
       "2024-03-27  173.309998  179.830002  493.859985  613.530029  151.940002\n",
       "2024-03-26  169.710007  178.300003  495.890015  629.239990  151.699997\n",
       "2024-03-25  170.850006  179.710007  503.019989  627.460022  151.149994\n",
       "2024-03-22  172.279999  178.869995  509.579987  628.010010  151.770004"
      ]
     },
     "execution_count": 152,
     "metadata": {},
     "output_type": "execute_result"
    }
   ],
   "source": [
    "# file names and the resp. ticker symbols\n",
    "ticker_symbols = {\n",
    "    'AAPL.csv': 'AAPL',\n",
    "    'AMZN.csv': 'AMZN',\n",
    "    'META.csv': 'META',\n",
    "    'NFLX.csv': 'NFLX',\n",
    "    'GOOG.csv': 'GOOG',\n",
    "}\n",
    "\n",
    "def process_df_close(file, ticker):\n",
    "    df = pd.read_csv(file, usecols=['Date', 'Close'], index_col='Date', parse_dates=True)\n",
    "    df = df.rename(columns={\"Close\":f\"{ticker}\"})\n",
    "    return df\n",
    "\n",
    "dfs_close_list = [process_df_close(file, ticker) for file, ticker in ticker_symbols.items()]\n",
    "df_close = pd.concat(dfs_close_list, axis=1).dropna()\n",
    "df_close.sort_index(inplace=True, ascending=False)\n",
    "\n",
    "# function to read and process each csv\n",
    "\n",
    "def process_stocks_log_return(file, ticker):\n",
    "    # read the 'Date' and 'Close' columns, with 'Date' as index\n",
    "    df = pd.read_csv(file, usecols=['Date', 'Close'], index_col='Date', parse_dates=True)\n",
    "    # calc the log returns and drop the Nan vals that may arise from the calc\n",
    "    df[f'{ticker}'] = np.log(df['Close'] / df['Close'].shift(1)).dropna()\n",
    "    # drop the original 'Close' column, keeping only the log retuns column\n",
    "    df.drop(columns=['Close'], inplace=True)\n",
    "    return df\n",
    "\n",
    "# process each stock csv and store in list\n",
    "log_return_dfs = [process_stocks_log_return(file, ticker) for file, ticker in ticker_symbols.items()]\n",
    "\n",
    "# outer join to merge all dfs on 'Date' col\n",
    "df_log_ret = pd.concat(log_return_dfs, axis=1).dropna()\n",
    "\n",
    "df_log_ret.sort_index(inplace=True, ascending=False)\n",
    "\n",
    "df_close.head(8)"
   ]
  },
  {
   "cell_type": "markdown",
   "metadata": {},
   "source": [
    "### Visualize Daily Log Returns"
   ]
  },
  {
   "cell_type": "code",
   "execution_count": 153,
   "metadata": {},
   "outputs": [
    {
     "data": {
      "image/png": "[encoded data removed]",
      "text/plain": [
       "<Figure size 640x480 with 1 Axes>"
      ]
     },
     "metadata": {},
     "output_type": "display_data"
    }
   ],
   "source": [
    "plt.plot(df_log_ret['AAPL'], color='magenta')\n",
    "plt.plot(df_log_ret['META'], color='blue')\n",
    "plt.plot(df_log_ret['AMZN'], color='yellow')\n",
    "plt.plot(df_log_ret['GOOG'], color='green')\n",
    "plt.plot(df_log_ret['NFLX'], color='red')\n",
    "\n",
    "plt.axhline(y=0.1, ls='dotted', color='red')\n",
    "plt.axhline(y=-0.1, ls='dotted', color='red')\n",
    "plt.title('FAANG Stocks Daily Log Returns')\n",
    "plt.grid(True)"
   ]
  },
  {
   "cell_type": "markdown",
   "metadata": {},
   "source": [
    "### Parametric VaR\n",
    "\n",
    "The Variance-covariance is a parametric method which assumes, almost always, that the returns are normally distributed. In this method, we first calculate the mean and standard deviation of the log returns to derive the risk metric. Based on this assumption of normality, we can generalise:\n",
    "\n",
    "$$ VaR = position \\times (\\mu - z \\times \\sigma) $$\n",
    "\n",
    "<div align=\"center\">\n",
    "\n",
    "| Confidence Level | Value at Risk                 |\n",
    "|:----------------:|:-----------------------------:|\n",
    "|   90%            |    $$\\mu - 1.29\\times\\sigma$$ |\n",
    "|   95%            |    $$\\mu - 1.64\\times\\sigma$$ |\n",
    "|   99%            |    $$\\mu - 2.33\\times\\sigma$$ |\n",
    "\n",
    "</div>\n",
    "\n",
    "Here, $\\mu$ is the return, and $\\sigma$ is the volatility; $z$ is the number of standard deviations from the mean. "
   ]
  },
  {
   "cell_type": "code",
   "execution_count": 154,
   "metadata": {},
   "outputs": [],
   "source": [
    "# calc the mean and std dev\n",
    "\n",
    "mean = np.mean(df_log_ret['AAPL'])\n",
    "stdev = np.std(df_log_ret['AAPL'])\n",
    "\n",
    "# calc the VaR ar different conf intervals\n",
    "\n",
    "var_90 = norm.ppf(1-0.90, mean, stdev)\n",
    "var_95 = norm.ppf(1-0.95, mean, stdev)\n",
    "var_99 = norm.ppf(1-0.99, mean, stdev)"
   ]
  },
  {
   "cell_type": "code",
   "execution_count": 155,
   "metadata": {},
   "outputs": [
    {
     "name": "stdout",
     "output_type": "stream",
     "text": [
      "Confidence Level      Value at Risk\n",
      "------------------  ---------------\n",
      "90%                      -0.0154877\n",
      "95%                      -0.0199054\n",
      "99%                      -0.0281924\n"
     ]
    }
   ],
   "source": [
    "# output the results in tabular form\n",
    "\n",
    "table = [['90%', var_90], ['95%', var_95], ['99%', var_99]]\n",
    "header = ['Confidence Level', \"Value at Risk\"]\n",
    "\n",
    "print(tabulate(table, headers=header))"
   ]
  },
  {
   "cell_type": "code",
   "execution_count": 156,
   "metadata": {},
   "outputs": [],
   "source": [
    "# define a Var function to calc for each stock\n",
    "\n",
    "def VaR(ticker, cl=0.95):\n",
    "    mean = np.mean(df_log_ret[ticker])\n",
    "    stdev = np.std(df_log_ret[ticker])\n",
    "\n",
    "    return np.around(100*norm.ppf(1-cl, mean, stdev), 4)"
   ]
  },
  {
   "cell_type": "code",
   "execution_count": 157,
   "metadata": {},
   "outputs": [
    {
     "name": "stdout",
     "output_type": "stream",
     "text": [
      "Var for FAANG Stocks\n",
      "---------------------------------------------\n",
      "VaR at 95% CL for AAPL : -1.9905%\n",
      "VaR at 95% CL for AMZN : -2.837%\n",
      "VaR at 95% CL for META : -3.291%\n",
      "VaR at 95% CL for NFLX : -3.3544%\n",
      "VaR at 95% CL for GOOG : -2.6846%\n"
     ]
    },
    {
     "data": {
      "text/plain": [
       "[None, None, None, None, None]"
      ]
     },
     "execution_count": 157,
     "metadata": {},
     "output_type": "execute_result"
    }
   ],
   "source": [
    "# VaR for each stock\n",
    "\n",
    "print('Var for FAANG Stocks')\n",
    "print('---'*15)\n",
    "[print(f'VaR at 95% CL for {ticker:4} : {VaR(ticker)}%') for ticker in df_log_ret.columns]\n"
   ]
  },
  {
   "cell_type": "markdown",
   "metadata": {},
   "source": [
    "### Visualizing VaR at 95% confidence level\n",
    "<p align=\"center\">\n",
    "<img src=\"VaR.png\">\n",
    "</p>"
   ]
  },
  {
   "cell_type": "markdown",
   "metadata": {},
   "source": [
    "Assume we have 1,000 shares of AAPL stocks on March 27th 2024, which is our most recent data point in our dataframe. We are now going to see what our maximum loss for the next day would be; calculated under a confidence interval set to 99%."
   ]
  },
  {
   "cell_type": "code",
   "execution_count": 158,
   "metadata": {},
   "outputs": [
    {
     "name": "stdout",
     "output_type": "stream",
     "text": [
      "Apple Holding Value: 169649.994\n",
      "Apple VaR at 99% Cl is: -4782.837346588544\n"
     ]
    }
   ],
   "source": [
    "num_shares = 1000\n",
    "current_price = df_close['AAPL'].iloc[0]\n",
    "position = num_shares * current_price\n",
    "\n",
    "aapl_var = position * var_99\n",
    "\n",
    "print(f'Apple Holding Value: {position}')\n",
    "print(f'Apple VaR at 99% Cl is: {aapl_var}')"
   ]
  },
  {
   "cell_type": "code",
   "execution_count": 159,
   "metadata": {},
   "outputs": [
    {
     "data": {
      "text/plain": [
       "True"
      ]
     },
     "execution_count": 159,
     "metadata": {},
     "output_type": "execute_result"
    }
   ],
   "source": [
    "# for clarity sake, we can also apply the formula directly to get the same result\n",
    "\n",
    "position * (mean + norm.ppf(1-0.99) * stdev) == aapl_var"
   ]
  },
  {
   "cell_type": "markdown",
   "metadata": {},
   "source": [
    "### Scaling VaR\n",
    "Moving on, let's compute the 5 Day VaR; to scale it, we simply multiply the value by the square root of the time period:\n",
    "\n",
    "$$VaR = position \\times (\\mu - z \\times \\sigma) \\times \\sqrt T $$\n",
    "\n",
    "where, $T$ is the forecast period/horizon."
   ]
  },
  {
   "cell_type": "code",
   "execution_count": 160,
   "metadata": {},
   "outputs": [],
   "source": [
    "forecast_period = 5\n",
    "f_var_90 = var_90 * np.sqrt(forecast_period)\n",
    "f_var_95 = var_95 * np.sqrt(forecast_period)\n",
    "f_var_99 = var_99 * np.sqrt(forecast_period)"
   ]
  },
  {
   "cell_type": "code",
   "execution_count": 161,
   "metadata": {},
   "outputs": [
    {
     "name": "stdout",
     "output_type": "stream",
     "text": [
      "Confidence Level      5-Day Forecast Value at Risk\n",
      "------------------  ------------------------------\n",
      "90%                                     -0.0346315\n",
      "95%                                     -0.0445099\n",
      "99%                                     -0.0630401\n"
     ]
    }
   ],
   "source": [
    "forecast_table = [['90%', f_var_90],['95%', f_var_95],['99%', f_var_99]]\n",
    "forecast_table_header = ['Confidence Level', '5-Day Forecast Value at Risk']\n",
    "print(tabulate(forecast_table, forecast_table_header))"
   ]
  },
  {
   "cell_type": "markdown",
   "metadata": {},
   "source": [
    "Let's now do the *5-Day 99% VaR* for AAPL"
   ]
  },
  {
   "cell_type": "code",
   "execution_count": 162,
   "metadata": {},
   "outputs": [
    {
     "name": "stdout",
     "output_type": "stream",
     "text": [
      "Apple Holding Value: 169649.994\n",
      "Apple VaR at 99% confidence level is: -10694.749432296707\n"
     ]
    }
   ],
   "source": [
    "aapl_5day_var = position * f_var_99\n",
    "\n",
    "print(f'Apple Holding Value: {position}')\n",
    "print(f'Apple VaR at 99% confidence level is: {aapl_5day_var}')"
   ]
  },
  {
   "cell_type": "code",
   "execution_count": 163,
   "metadata": {},
   "outputs": [
    {
     "data": {
      "text/plain": [
       "Text(0.5, 1.0, 'VaR 95%, Scaled by Time')"
      ]
     },
     "execution_count": 163,
     "metadata": {},
     "output_type": "execute_result"
    },
    {
     "data": {
      "image/png": "[encoded data removed]",
      "text/plain": [
       "<Figure size 800x600 with 1 Axes>"
      ]
     },
     "metadata": {},
     "output_type": "display_data"
    }
   ],
   "source": [
    "# scaled VaR over varying time periods\n",
    "\n",
    "plt.figure(figsize=(8,6))\n",
    "plt.plot(range(100), [-100 * var_95 * np.sqrt(x) for x in range(100)])\n",
    "plt.xlabel(\"Time Horizon\")\n",
    "plt.ylabel(\"Value at Risk (95%) in percentage\")\n",
    "plt.title(\"VaR 95%, Scaled by Time\")"
   ]
  },
  {
   "cell_type": "markdown",
   "metadata": {},
   "source": [
    "### Historical VaR\n",
    "\n",
    "Asset returns do not need to follow a normal distribution. An alternative is to use sorted returns to compute VaR. This method used historical data where returns are sorted in ascending order to calculate maximum possible loss for a given confidence level."
   ]
  },
  {
   "cell_type": "code",
   "execution_count": 164,
   "metadata": {},
   "outputs": [],
   "source": [
    "# use quantile function for historical VaR\n",
    "\n",
    "historical_var_90 = df_log_ret['AAPL'].quantile(0.10)\n",
    "historical_var_95 = df_log_ret['AAPL'].quantile(0.05)\n",
    "historical_var_99 = df_log_ret['AAPL'].quantile(0.01)"
   ]
  },
  {
   "cell_type": "code",
   "execution_count": 165,
   "metadata": {},
   "outputs": [
    {
     "name": "stdout",
     "output_type": "stream",
     "text": [
      "Confidence Level      Value at Risk\n",
      "------------------  ---------------\n",
      "90%                      -0.0119527\n",
      "95%                      -0.0185203\n",
      "99%                      -0.0364462\n"
     ]
    }
   ],
   "source": [
    "historical_var_table = [['90%', historical_var_90],['95%', historical_var_95],['99%', historical_var_99]]\n",
    "\n",
    "print(tabulate(historical_var_table,headers=header))"
   ]
  },
  {
   "cell_type": "markdown",
   "metadata": {},
   "source": [
    "# Expected Shortfall\n",
    "While Var is a reasonable measure of risk, it only holds when assumptions of noomrlaity holds. If said assumptions are not met, we might underestimate the risk if we observe a fat tail. Or, we might overestimate the risk if the tail is thinner. Expected shortfall or *Conditional Value at Risk* (**CVaR**) is an estimate of expected shortfall sustained in the absolute worst $1 - x%$ of scenarios. It is defined as the average loss based on the returns that are **lower** than the Var threshold. \n",
    "\n",
    "Assuming we have $n$ stock return, then the expected shortfall is as follows:\n",
    "\n",
    "$$ CVaR =  \\frac{1}{n} \\times \\sum_{i=1}^n R_i [R \\le hVaR_{cl}] $$\n",
    "\n",
    "where, $R$ is the returns, $hVaR$ is the historical VaR and $cl$ is the confidence level."
   ]
  },
  {
   "cell_type": "code",
   "execution_count": 166,
   "metadata": {},
   "outputs": [],
   "source": [
    "cvar_90 = df_log_ret['AAPL'][df_log_ret['AAPL'] <= historical_var_90].mean()\n",
    "cvar_95 = df_log_ret['AAPL'][df_log_ret['AAPL'] <= historical_var_95].mean()\n",
    "cvar_99 = df_log_ret['AAPL'][df_log_ret['AAPL'] <= historical_var_99].mean()"
   ]
  },
  {
   "cell_type": "code",
   "execution_count": 167,
   "metadata": {},
   "outputs": [
    {
     "name": "stdout",
     "output_type": "stream",
     "text": [
      "Confidence Level      Conditional Value At Risk\n",
      "------------------  ---------------------------\n",
      "90%                                  -0.0222956\n",
      "95%                                  -0.0294116\n",
      "99%                                  -0.0424588\n"
     ]
    }
   ],
   "source": [
    "cvar_table = [['90%', cvar_90],['95%', cvar_95],['99%', cvar_99] ]\n",
    "cvar_header = ['Confidence Level', 'Conditional Value At Risk']\n",
    "print(tabulate(cvar_table,headers=cvar_header))"
   ]
  },
  {
   "cell_type": "markdown",
   "metadata": {},
   "source": [
    "### MonteCarlo VaR\n",
    "The Monte Carlo simulation approach has a number of similarities to historical simulation. It allows us to use actual historical distributions rather than having to assume normal returns. As returns are assumed to follow a normal distribution, we could generate $n$ simulated returns with the same mean and standard deviation (derived from the daily returns) and then sorted in ascending order to calculate maximum possible loss for a given confidence level."
   ]
  },
  {
   "cell_type": "code",
   "execution_count": 168,
   "metadata": {},
   "outputs": [],
   "source": [
    "# seed setting for reproducibility\n",
    "\n",
    "np.random.seed(12345)\n",
    "\n",
    "# no. of simulations\n",
    "\n",
    "n_sims = 5000\n",
    "\n",
    "# simulate returns and sort them\n",
    "\n",
    "sim_returns = np.random.normal(mean, stdev, n_sims)\n",
    "\n",
    "# use percentile functions for MonteCarlo VaR\n",
    "\n",
    "mcvar_90 = np.percentile(sim_returns, 10)\n",
    "mcvar_95 = np.percentile(sim_returns, 5)\n",
    "mcvar_99 = np.percentile(sim_returns, 1)"
   ]
  },
  {
   "cell_type": "code",
   "execution_count": 169,
   "metadata": {},
   "outputs": [
    {
     "name": "stdout",
     "output_type": "stream",
     "text": [
      "Confidence Level      Value at Risk\n",
      "------------------  ---------------\n",
      "90%                      -0.0152983\n",
      "95%                      -0.0196981\n",
      "99%                      -0.0275871\n"
     ]
    }
   ],
   "source": [
    "mcvar_table = [['90%', mcvar_90],['95%', mcvar_95],['99%', mcvar_99]]\n",
    "print(tabulate(mcvar_table,headers=header))"
   ]
  },
  {
   "cell_type": "markdown",
   "metadata": {},
   "source": [
    "### Portfolio VaR\n",
    "Knowing the returns and volatilities of our assets under a given portfolio, we cancompute the VaR for the entire portfolio. Which is what we will do now, assuming equal weighting for all our stocks that make up our portfolio."
   ]
  },
  {
   "cell_type": "code",
   "execution_count": 170,
   "metadata": {},
   "outputs": [
    {
     "data": {
      "text/plain": [
       "array([[0.2],\n",
       "       [0.2],\n",
       "       [0.2],\n",
       "       [0.2],\n",
       "       [0.2]])"
      ]
     },
     "execution_count": 170,
     "metadata": {},
     "output_type": "execute_result"
    }
   ],
   "source": [
    "# assign weights\n",
    "\n",
    "wts = np.array([0.2, 0.2, 0.2, 0.2, 0.2])[:, np.newaxis]\n",
    "wts"
   ]
  },
  {
   "cell_type": "markdown",
   "metadata": {},
   "source": [
    "### Portfolio Return"
   ]
  },
  {
   "cell_type": "code",
   "execution_count": 171,
   "metadata": {},
   "outputs": [
    {
     "data": {
      "text/html": [
       "<div>\n",
       "<style scoped>\n",
       "    .dataframe tbody tr th:only-of-type {\n",
       "        vertical-align: middle;\n",
       "    }\n",
       "\n",
       "    .dataframe tbody tr th {\n",
       "        vertical-align: top;\n",
       "    }\n",
       "\n",
       "    .dataframe thead th {\n",
       "        text-align: right;\n",
       "    }\n",
       "</style>\n",
       "<table border=\"1\" class=\"dataframe\">\n",
       "  <thead>\n",
       "    <tr style=\"text-align: right;\">\n",
       "      <th></th>\n",
       "      <th>AAPL</th>\n",
       "      <th>AMZN</th>\n",
       "      <th>META</th>\n",
       "      <th>NFLX</th>\n",
       "      <th>GOOG</th>\n",
       "    </tr>\n",
       "    <tr>\n",
       "      <th>Date</th>\n",
       "      <th></th>\n",
       "      <th></th>\n",
       "      <th></th>\n",
       "      <th></th>\n",
       "      <th></th>\n",
       "    </tr>\n",
       "  </thead>\n",
       "  <tbody>\n",
       "    <tr>\n",
       "      <th>2024-04-03</th>\n",
       "      <td>0.004786</td>\n",
       "      <td>0.009474</td>\n",
       "      <td>0.018664</td>\n",
       "      <td>0.025510</td>\n",
       "      <td>0.003203</td>\n",
       "    </tr>\n",
       "    <tr>\n",
       "      <th>2024-04-02</th>\n",
       "      <td>-0.007023</td>\n",
       "      <td>-0.001548</td>\n",
       "      <td>0.012177</td>\n",
       "      <td>-0.000163</td>\n",
       "      <td>-0.004034</td>\n",
       "    </tr>\n",
       "    <tr>\n",
       "      <th>2024-04-01</th>\n",
       "      <td>-0.008492</td>\n",
       "      <td>0.003266</td>\n",
       "      <td>0.011813</td>\n",
       "      <td>0.011427</td>\n",
       "      <td>0.027466</td>\n",
       "    </tr>\n",
       "    <tr>\n",
       "      <th>2024-03-28</th>\n",
       "      <td>-0.010615</td>\n",
       "      <td>0.003054</td>\n",
       "      <td>-0.016908</td>\n",
       "      <td>-0.010157</td>\n",
       "      <td>0.002104</td>\n",
       "    </tr>\n",
       "    <tr>\n",
       "      <th>2024-03-27</th>\n",
       "      <td>0.020991</td>\n",
       "      <td>0.008544</td>\n",
       "      <td>-0.004102</td>\n",
       "      <td>-0.025284</td>\n",
       "      <td>0.001581</td>\n",
       "    </tr>\n",
       "  </tbody>\n",
       "</table>\n",
       "</div>"
      ],
      "text/plain": [
       "                AAPL      AMZN      META      NFLX      GOOG\n",
       "Date                                                        \n",
       "2024-04-03  0.004786  0.009474  0.018664  0.025510  0.003203\n",
       "2024-04-02 -0.007023 -0.001548  0.012177 -0.000163 -0.004034\n",
       "2024-04-01 -0.008492  0.003266  0.011813  0.011427  0.027466\n",
       "2024-03-28 -0.010615  0.003054 -0.016908 -0.010157  0.002104\n",
       "2024-03-27  0.020991  0.008544 -0.004102 -0.025284  0.001581"
      ]
     },
     "execution_count": 171,
     "metadata": {},
     "output_type": "execute_result"
    }
   ],
   "source": [
    "# stock returns\n",
    "\n",
    "df_log_ret[:5]"
   ]
  },
  {
   "cell_type": "code",
   "execution_count": 172,
   "metadata": {},
   "outputs": [
    {
     "data": {
      "text/plain": [
       "array([ 1.23272811e-02, -1.18156904e-04,  9.09605667e-03, -6.50450855e-03,\n",
       "        3.46080297e-04, -4.47652216e-03, -4.31528990e-03,  8.30979629e-03,\n",
       "       -1.03118997e-02,  1.37604821e-02,  4.02465756e-03,  1.93637092e-02,\n",
       "       -1.38819956e-02,  9.29770408e-03, -1.68306017e-03,  1.54054107e-02,\n",
       "       -8.03111482e-03, -1.75400149e-03,  1.76164827e-02, -1.60350794e-03,\n",
       "       -1.92672068e-02, -1.43415882e-02,  8.26750543e-03,  1.14230553e-02,\n",
       "       -8.59707178e-03,  9.09406208e-03, -1.05564184e-02, -4.13068692e-03,\n",
       "        2.40609094e-02,  2.72493354e-03, -6.80084981e-03, -1.27932470e-02,\n",
       "        3.21360765e-03,  1.72350125e-02, -1.47851380e-02, -7.13895714e-03,\n",
       "        1.01435883e-02, -1.33116824e-03,  1.11427737e-02, -3.25010591e-03,\n",
       "       -5.45276264e-03,  5.11999858e-02,  1.26861165e-02, -2.85913552e-02,\n",
       "       -1.40602778e-02,  8.64928293e-03,  3.57581502e-03,  1.25648663e-02,\n",
       "        2.57945074e-02,  8.66546501e-03,  1.61072688e-03,  1.24147504e-02,\n",
       "        1.79064870e-02, -4.48243941e-03, -1.28758397e-02,  2.98660619e-03,\n",
       "        6.34784281e-03,  1.15579069e-02,  3.53411515e-03,  2.28953883e-02,\n",
       "        1.68308268e-03, -7.81399957e-03, -2.62106203e-03, -2.39834924e-02,\n",
       "       -7.40454801e-03,  2.30344522e-05, -1.63162495e-06,  2.18332621e-03,\n",
       "       -2.74460270e-03,  8.82566666e-03, -5.04563881e-03,  8.95989397e-03,\n",
       "        2.02107846e-02,  5.83749989e-03, -8.13354415e-03,  1.31542728e-02,\n",
       "        8.93618848e-03, -9.40604757e-03,  4.09347859e-03,  2.36868301e-02,\n",
       "       -1.00988560e-02,  9.10870705e-03, -1.71076802e-02, -3.19444282e-03,\n",
       "       -7.79067602e-03, -1.00857552e-02,  2.99215189e-03, -1.35196744e-03,\n",
       "       -5.21942133e-03,  1.05185036e-02, -4.47559713e-03,  1.11404183e-02,\n",
       "        7.50767839e-04,  7.70164729e-03,  2.09256601e-03,  1.60347390e-02,\n",
       "       -4.62737721e-03,  2.26066880e-02, -5.19735680e-03,  3.12144432e-03,\n",
       "        1.03596064e-02,  8.04752830e-03,  8.44821878e-03,  8.74001925e-03,\n",
       "        2.40853561e-02,  2.80856330e-04,  2.38557200e-02,  1.76411814e-02,\n",
       "       -2.45630138e-02, -4.40893555e-02,  9.26459274e-03,  1.03920400e-02,\n",
       "       -1.43891507e-02,  2.66932305e-02, -1.88901702e-02, -3.77044979e-03,\n",
       "        1.37343415e-02, -1.74081360e-02, -5.08081818e-03,  8.41529052e-03,\n",
       "       -3.68876665e-03,  7.42183671e-03,  2.16632835e-02, -3.43943133e-03,\n",
       "        1.26265216e-02, -1.75679410e-02,  1.73636392e-02, -1.34709716e-03,\n",
       "        6.31210932e-03, -4.01033854e-04, -2.12734993e-02,  9.94784348e-03,\n",
       "        4.74326297e-04, -1.94180156e-02, -2.23049025e-02,  2.28718477e-04,\n",
       "        3.92396198e-03, -1.71419286e-02,  2.26086249e-03, -3.59634393e-03,\n",
       "       -1.72359223e-02,  1.65728588e-02,  2.03422980e-03, -2.58247724e-03,\n",
       "       -1.40222521e-02,  5.37653026e-03,  4.21234384e-03,  5.23210984e-03,\n",
       "        6.36552972e-03,  2.33780981e-02,  7.53811277e-03,  8.61850325e-03,\n",
       "       -3.00862223e-02,  2.29888008e-02,  2.89390510e-03,  1.14889760e-02,\n",
       "       -4.74791024e-03, -1.49098855e-02, -1.56682724e-02, -1.35082673e-02,\n",
       "        1.33775735e-02, -7.08850479e-03,  1.72255761e-03, -1.65351917e-02,\n",
       "       -5.93586555e-03,  1.34202902e-02,  4.39164004e-03, -2.88501973e-04,\n",
       "       -2.28526325e-02, -3.29416454e-03,  4.82268916e-03,  2.82018864e-02,\n",
       "        3.22636014e-03,  1.06707073e-02,  4.53911687e-03,  1.77850378e-04,\n",
       "       -9.99837131e-03, -4.18343787e-02,  6.77034064e-03,  8.68782472e-03,\n",
       "        5.52091207e-03, -4.60391345e-03,  2.00628997e-02,  1.71331081e-02,\n",
       "        5.59755265e-03, -7.74437388e-03, -1.63226187e-03, -1.02292909e-02,\n",
       "        1.02383523e-02, -2.69623713e-03,  1.94471678e-02, -6.59032735e-03,\n",
       "        9.29046756e-03,  1.23564947e-02, -2.22110981e-02,  4.28736278e-04,\n",
       "        1.72413732e-02, -1.35549614e-02,  3.84093943e-03, -1.31699318e-02,\n",
       "        1.36713106e-02,  4.06905083e-03,  5.41894954e-03,  1.69469524e-02,\n",
       "        4.84912267e-03,  1.30389914e-02, -2.35532415e-02,  1.36251254e-03,\n",
       "        3.01684608e-03,  3.40356851e-03,  1.82256910e-02, -1.07718059e-03,\n",
       "        1.10952886e-02,  3.12721401e-02,  2.26102595e-03,  7.57830288e-03,\n",
       "       -1.24132357e-02,  1.84271546e-03, -7.75723868e-03,  3.17774745e-02,\n",
       "        1.34280197e-02,  7.88829673e-03,  1.38872169e-03, -7.60993377e-03,\n",
       "        1.96681337e-02,  1.82611375e-02, -4.25392883e-04,  9.60724231e-03,\n",
       "        1.48362387e-02, -5.09971448e-03, -1.75197192e-03, -8.77038576e-03,\n",
       "       -8.79289548e-03, -2.93685427e-03,  5.09637396e-02,  5.23134289e-03,\n",
       "       -2.19357042e-02,  1.14340298e-03,  5.47278950e-03, -1.52360230e-03,\n",
       "       -3.39330097e-03, -2.12136468e-03, -1.10711074e-02, -1.25835951e-03,\n",
       "        3.62091896e-02, -1.09550479e-02, -8.83649964e-03, -8.07237826e-03,\n",
       "        1.29255877e-02, -1.37495662e-02])"
      ]
     },
     "execution_count": 172,
     "metadata": {},
     "output_type": "execute_result"
    }
   ],
   "source": [
    "port_log_returns = np.dot(df_log_ret, wts)\n",
    "port_log_returns.flatten()"
   ]
  },
  {
   "cell_type": "code",
   "execution_count": 173,
   "metadata": {},
   "outputs": [
    {
     "data": {
      "text/plain": [
       "0.0019514850344821853"
      ]
     },
     "execution_count": 173,
     "metadata": {},
     "output_type": "execute_result"
    }
   ],
   "source": [
    "port_log_returns_mean = port_log_returns.mean()\n",
    "port_log_returns_mean"
   ]
  },
  {
   "cell_type": "markdown",
   "metadata": {},
   "source": [
    "### Portfolio Volatility"
   ]
  },
  {
   "cell_type": "code",
   "execution_count": 174,
   "metadata": {},
   "outputs": [
    {
     "data": {
      "text/html": [
       "<div>\n",
       "<style scoped>\n",
       "    .dataframe tbody tr th:only-of-type {\n",
       "        vertical-align: middle;\n",
       "    }\n",
       "\n",
       "    .dataframe tbody tr th {\n",
       "        vertical-align: top;\n",
       "    }\n",
       "\n",
       "    .dataframe thead th {\n",
       "        text-align: right;\n",
       "    }\n",
       "</style>\n",
       "<table border=\"1\" class=\"dataframe\">\n",
       "  <thead>\n",
       "    <tr style=\"text-align: right;\">\n",
       "      <th></th>\n",
       "      <th>AAPL</th>\n",
       "      <th>AMZN</th>\n",
       "      <th>META</th>\n",
       "      <th>NFLX</th>\n",
       "      <th>GOOG</th>\n",
       "    </tr>\n",
       "  </thead>\n",
       "  <tbody>\n",
       "    <tr>\n",
       "      <th>AAPL</th>\n",
       "      <td>0.000148</td>\n",
       "      <td>0.000085</td>\n",
       "      <td>0.000100</td>\n",
       "      <td>0.000096</td>\n",
       "      <td>0.000098</td>\n",
       "    </tr>\n",
       "    <tr>\n",
       "      <th>AMZN</th>\n",
       "      <td>0.000085</td>\n",
       "      <td>0.000348</td>\n",
       "      <td>0.000252</td>\n",
       "      <td>0.000143</td>\n",
       "      <td>0.000173</td>\n",
       "    </tr>\n",
       "    <tr>\n",
       "      <th>META</th>\n",
       "      <td>0.000100</td>\n",
       "      <td>0.000252</td>\n",
       "      <td>0.000490</td>\n",
       "      <td>0.000155</td>\n",
       "      <td>0.000174</td>\n",
       "    </tr>\n",
       "    <tr>\n",
       "      <th>NFLX</th>\n",
       "      <td>0.000096</td>\n",
       "      <td>0.000143</td>\n",
       "      <td>0.000155</td>\n",
       "      <td>0.000479</td>\n",
       "      <td>0.000113</td>\n",
       "    </tr>\n",
       "    <tr>\n",
       "      <th>GOOG</th>\n",
       "      <td>0.000098</td>\n",
       "      <td>0.000173</td>\n",
       "      <td>0.000174</td>\n",
       "      <td>0.000113</td>\n",
       "      <td>0.000300</td>\n",
       "    </tr>\n",
       "  </tbody>\n",
       "</table>\n",
       "</div>"
      ],
      "text/plain": [
       "          AAPL      AMZN      META      NFLX      GOOG\n",
       "AAPL  0.000148  0.000085  0.000100  0.000096  0.000098\n",
       "AMZN  0.000085  0.000348  0.000252  0.000143  0.000173\n",
       "META  0.000100  0.000252  0.000490  0.000155  0.000174\n",
       "NFLX  0.000096  0.000143  0.000155  0.000479  0.000113\n",
       "GOOG  0.000098  0.000173  0.000174  0.000113  0.000300"
      ]
     },
     "execution_count": 174,
     "metadata": {},
     "output_type": "execute_result"
    }
   ],
   "source": [
    "# covariance matrix\n",
    "\n",
    "df_log_ret.cov()"
   ]
  },
  {
   "cell_type": "code",
   "execution_count": 175,
   "metadata": {},
   "outputs": [
    {
     "data": {
      "text/plain": [
       "0.013476598529058907"
      ]
     },
     "execution_count": 175,
     "metadata": {},
     "output_type": "execute_result"
    }
   ],
   "source": [
    "# portfolio volatility\n",
    "\n",
    "port_log_returns_mean_stdev = np.sqrt(multi_dot([wts.T, df_log_ret.cov(), wts]))\n",
    "port_log_returns_mean_stdev.flatten()[0]"
   ]
  },
  {
   "cell_type": "markdown",
   "metadata": {},
   "source": [
    "### Portfolio Position"
   ]
  },
  {
   "cell_type": "code",
   "execution_count": 176,
   "metadata": {},
   "outputs": [
    {
     "data": {
      "text/plain": [
       "1645250.0"
      ]
     },
     "execution_count": 176,
     "metadata": {},
     "output_type": "execute_result"
    }
   ],
   "source": [
    "# portfolio position\n",
    "\n",
    "port_position = (df_close.iloc[0] * num_shares).sum()\n",
    "port_position"
   ]
  },
  {
   "cell_type": "code",
   "execution_count": 177,
   "metadata": {},
   "outputs": [],
   "source": [
    "# compute portfolio VaR at varying CL\n",
    "\n",
    "portvar_90 = norm.ppf(1-0.90, port_log_returns_mean, port_log_returns_mean_stdev).flatten()[0]\n",
    "portvar_95 = norm.ppf(1-0.95, port_log_returns_mean, port_log_returns_mean_stdev).flatten()[0]\n",
    "portvar_99 = norm.ppf(1-0.99, port_log_returns_mean, port_log_returns_mean_stdev).flatten()[0]"
   ]
  },
  {
   "cell_type": "code",
   "execution_count": 178,
   "metadata": {},
   "outputs": [
    {
     "data": {
      "text/plain": [
       "-0.020215546935009234"
      ]
     },
     "execution_count": 178,
     "metadata": {},
     "output_type": "execute_result"
    }
   ],
   "source": [
    "portvar_95"
   ]
  },
  {
   "cell_type": "markdown",
   "metadata": {},
   "source": [
    "### Portfolio VaR\n"
   ]
  },
  {
   "cell_type": "code",
   "execution_count": 179,
   "metadata": {},
   "outputs": [
    {
     "name": "stdout",
     "output_type": "stream",
     "text": [
      "Confidence Level      Value At Risk\n",
      "------------------  ---------------\n",
      "90%                      -0.0153195\n",
      "95%                      -0.0202155\n",
      "99%                      -0.0293998\n"
     ]
    }
   ],
   "source": [
    "# output results in tabular form\n",
    "port_table = [['90%', portvar_90],['95%', portvar_95],['99%', portvar_99]]\n",
    "port_header = ['Confidence Level', 'Value At Risk']\n",
    "print(tabulate(port_table,headers=port_header))"
   ]
  },
  {
   "cell_type": "code",
   "execution_count": 180,
   "metadata": {},
   "outputs": [
    {
     "name": "stdout",
     "output_type": "stream",
     "text": [
      "AAPL Holding Value: 1.696e+05\n",
      "AAPL VaR at 95% confidence level: -3.377e+05\n",
      "\n",
      "AMZN Holding Value: 1.824e+05\n",
      "AMZN VaR at 95% confidence level: -5.175e+05\n",
      "\n",
      "META Holding Value: 5.067e+05\n",
      "META VaR at 95% confidence level: -1.668e+06\n",
      "\n",
      "NFLX Holding Value: 6.301e+05\n",
      "NFLX VaR at 95% confidence level: -2.114e+06\n",
      "\n",
      "GOOG Holding Value: 1.564e+05\n",
      "GOOG VaR at 95% confidence level: -4.198e+05\n",
      "\n",
      "Portfolio Holding Value: 1.645e+06\n",
      "Portoflio VaR at 95% confidence level: -3.326e+04\n"
     ]
    }
   ],
   "source": [
    "# iterate over tickers\n",
    "\n",
    "for stock in df_close.columns:\n",
    "    pos = df_close[stock].iloc[0] * num_shares\n",
    "    pvar = pos * VaR(stock)\n",
    "\n",
    "    print(f'{stock} Holding Value: {pos:0.4}') \n",
    "    print(f'{stock} VaR at 95% confidence level: {pvar:0.4}')\n",
    "    print()\n",
    "\n",
    "print(f'Portfolio Holding Value: {port_position:0.4}')\n",
    "print(f'Portoflio VaR at 95% confidence level: {port_position * portvar_95:0.4}')"
   ]
  },
  {
   "cell_type": "markdown",
   "metadata": {},
   "source": [
    "Hence, the **VaR95%** of our portfolio valued at **$1,645,000** is computed to be **$33,260**."
   ]
  },
  {
   "cell_type": "markdown",
   "metadata": {},
   "source": [
    "### References\n",
    "- Numpy documentation https://docs.scipy.org/doc/numpy/\n",
    "\n",
    "- Scipy documentation https://docs.scipy.org/doc/scipy/reference/\n",
    "\n",
    "- Paul Wilmott (2007), Paul Wilmott introduces Quantitative Finance"
   ]
  }
 ],
 "metadata": {
  "kernelspec": {
   "display_name": "base",
   "language": "python",
   "name": "python3"
  },
  "language_info": {
   "codemirror_mode": {
    "name": "ipython",
    "version": 3
   },
   "file_extension": ".py",
   "mimetype": "text/x-python",
   "name": "python",
   "nbconvert_exporter": "python",
   "pygments_lexer": "ipython3",
   "version": "3.11.5"
  }
 },
 "nbformat": 4,
 "nbformat_minor": 2
}
